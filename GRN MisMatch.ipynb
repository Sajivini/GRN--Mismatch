{
 "cells": [
  {
   "cell_type": "code",
   "execution_count": 7,
   "id": "f4e53998",
   "metadata": {},
   "outputs": [
    {
     "name": "stdout",
     "output_type": "stream",
     "text": [
      "Requirement already satisfied: pandas in c:\\users\\sajivinin\\anaconda3\\lib\\site-packages (1.3.4)\n",
      "Requirement already satisfied: numpy>=1.17.3 in c:\\users\\sajivinin\\anaconda3\\lib\\site-packages (from pandas) (1.20.3)\n",
      "Requirement already satisfied: pytz>=2017.3 in c:\\users\\sajivinin\\anaconda3\\lib\\site-packages (from pandas) (2021.3)\n",
      "Requirement already satisfied: python-dateutil>=2.7.3 in c:\\users\\sajivinin\\anaconda3\\lib\\site-packages (from pandas) (2.8.2)\n",
      "Requirement already satisfied: six>=1.5 in c:\\users\\sajivinin\\anaconda3\\lib\\site-packages (from python-dateutil>=2.7.3->pandas) (1.16.0)\n"
     ]
    }
   ],
   "source": [
    "!pip install pandas"
   ]
  },
  {
   "cell_type": "code",
   "execution_count": 8,
   "id": "258252af",
   "metadata": {},
   "outputs": [],
   "source": [
    "import pandas as pd"
   ]
  },
  {
   "cell_type": "code",
   "execution_count": 9,
   "id": "42ea0214",
   "metadata": {},
   "outputs": [
    {
     "name": "stdout",
     "output_type": "stream",
     "text": [
      "Collecting fuzzywuzzy\n",
      "  Downloading fuzzywuzzy-0.18.0-py2.py3-none-any.whl (18 kB)\n",
      "Installing collected packages: fuzzywuzzy\n",
      "Successfully installed fuzzywuzzy-0.18.0\n"
     ]
    }
   ],
   "source": [
    "!pip install  fuzzywuzzy"
   ]
  },
  {
   "cell_type": "code",
   "execution_count": 11,
   "id": "96294d61",
   "metadata": {},
   "outputs": [],
   "source": [
    "from fuzzywuzzy import process\n",
    "from fuzzywuzzy import fuzz"
   ]
  },
  {
   "cell_type": "code",
   "execution_count": 57,
   "id": "51217c67",
   "metadata": {},
   "outputs": [
    {
     "data": {
      "text/html": [
       "<div>\n",
       "<style scoped>\n",
       "    .dataframe tbody tr th:only-of-type {\n",
       "        vertical-align: middle;\n",
       "    }\n",
       "\n",
       "    .dataframe tbody tr th {\n",
       "        vertical-align: top;\n",
       "    }\n",
       "\n",
       "    .dataframe thead th {\n",
       "        text-align: right;\n",
       "    }\n",
       "</style>\n",
       "<table border=\"1\" class=\"dataframe\">\n",
       "  <thead>\n",
       "    <tr style=\"text-align: right;\">\n",
       "      <th></th>\n",
       "      <th>Unique</th>\n",
       "      <th>Reference</th>\n",
       "      <th>Delivery Note</th>\n",
       "    </tr>\n",
       "  </thead>\n",
       "  <tbody>\n",
       "    <tr>\n",
       "      <th>0</th>\n",
       "      <td>A0501000345109492780</td>\n",
       "      <td>INS2600996</td>\n",
       "      <td>IN2600996</td>\n",
       "    </tr>\n",
       "    <tr>\n",
       "      <th>1</th>\n",
       "      <td>A0501000345109494838</td>\n",
       "      <td>4300019621</td>\n",
       "      <td>NaN</td>\n",
       "    </tr>\n",
       "    <tr>\n",
       "      <th>2</th>\n",
       "      <td>A0501000385109389753</td>\n",
       "      <td>AF/2021/08/02492</td>\n",
       "      <td>AFP/2021/08/03-2</td>\n",
       "    </tr>\n",
       "    <tr>\n",
       "      <th>3</th>\n",
       "      <td>A0501000385109389753</td>\n",
       "      <td>AF/2021/08/02492</td>\n",
       "      <td>AFP/2021/08/06-2</td>\n",
       "    </tr>\n",
       "    <tr>\n",
       "      <th>4</th>\n",
       "      <td>A0501000385109389753</td>\n",
       "      <td>AF/2021/08/02492</td>\n",
       "      <td>AFP/2021/07/30-1</td>\n",
       "    </tr>\n",
       "    <tr>\n",
       "      <th>...</th>\n",
       "      <td>...</td>\n",
       "      <td>...</td>\n",
       "      <td>...</td>\n",
       "    </tr>\n",
       "    <tr>\n",
       "      <th>24097</th>\n",
       "      <td>H1504045455109424498</td>\n",
       "      <td>LC2110240B</td>\n",
       "      <td>LC2110240</td>\n",
       "    </tr>\n",
       "    <tr>\n",
       "      <th>24098</th>\n",
       "      <td>H1504045735109430367</td>\n",
       "      <td>224</td>\n",
       "      <td>30859</td>\n",
       "    </tr>\n",
       "    <tr>\n",
       "      <th>24099</th>\n",
       "      <td>H1504048945109421904</td>\n",
       "      <td>2021A/C4372</td>\n",
       "      <td>2021A/C-4372</td>\n",
       "    </tr>\n",
       "    <tr>\n",
       "      <th>24100</th>\n",
       "      <td>H150H0505109415297</td>\n",
       "      <td>INV21/H050/0021</td>\n",
       "      <td>33587</td>\n",
       "    </tr>\n",
       "    <tr>\n",
       "      <th>24101</th>\n",
       "      <td>H150H0505109415297</td>\n",
       "      <td>INV21/H050/0021</td>\n",
       "      <td>34551</td>\n",
       "    </tr>\n",
       "  </tbody>\n",
       "</table>\n",
       "<p>24102 rows × 3 columns</p>\n",
       "</div>"
      ],
      "text/plain": [
       "                     Unique         Reference     Delivery Note\n",
       "0      A0501000345109492780        INS2600996         IN2600996\n",
       "1      A0501000345109494838        4300019621               NaN\n",
       "2      A0501000385109389753  AF/2021/08/02492  AFP/2021/08/03-2\n",
       "3      A0501000385109389753  AF/2021/08/02492  AFP/2021/08/06-2\n",
       "4      A0501000385109389753  AF/2021/08/02492  AFP/2021/07/30-1\n",
       "...                     ...               ...               ...\n",
       "24097  H1504045455109424498        LC2110240B         LC2110240\n",
       "24098  H1504045735109430367               224             30859\n",
       "24099  H1504048945109421904       2021A/C4372      2021A/C-4372\n",
       "24100    H150H0505109415297   INV21/H050/0021             33587\n",
       "24101    H150H0505109415297   INV21/H050/0021             34551\n",
       "\n",
       "[24102 rows x 3 columns]"
      ]
     },
     "execution_count": 57,
     "metadata": {},
     "output_type": "execute_result"
    }
   ],
   "source": [
    "data = pd.read_csv(\"C:/Users/sajivinin/Documents/GRN MisMatch_New.csv \")\n",
    "data"
   ]
  },
  {
   "cell_type": "code",
   "execution_count": 59,
   "id": "20298bb6",
   "metadata": {},
   "outputs": [],
   "source": [
    "data['Delivery Note'] = data['Delivery Note'].fillna('blank')"
   ]
  },
  {
   "cell_type": "code",
   "execution_count": 60,
   "id": "7c8e58d7",
   "metadata": {},
   "outputs": [],
   "source": [
    "def get_matches(query,choice,limit=3):\n",
    "  results = process.extract(query,choice,limit=limit)\n",
    "  return results"
   ]
  },
  {
   "cell_type": "code",
   "execution_count": 61,
   "id": "120092db",
   "metadata": {},
   "outputs": [
    {
     "data": {
      "text/plain": [
       "[('IN2600996', 95, 0), ('99', 90, 18385), ('20209', 72, 18148)]"
      ]
     },
     "execution_count": 61,
     "metadata": {},
     "output_type": "execute_result"
    }
   ],
   "source": [
    "get_matches('INS2600996',data['Delivery Note'])"
   ]
  },
  {
   "cell_type": "code",
   "execution_count": 24,
   "id": "e0d9765c",
   "metadata": {},
   "outputs": [],
   "source": [
    "# compare = pd.MultiIndex.from_product([ data['Reference'],data['Delivery Note'] ]). to_series()\n",
    "# def metrics (tup):\n",
    "#     return pd.Series([fuzz.partial_ratio(*tup),fuzz.token_sort_ratio(*tup)], ['partial', 'token'])\n",
    "#     compare.apply(metrics)"
   ]
  },
  {
   "cell_type": "code",
   "execution_count": 63,
   "id": "51e442d3",
   "metadata": {},
   "outputs": [],
   "source": [
    "df1 = pd.DataFrame()\n",
    "df1['Unique'] = data['Unique']\n",
    "df1['Reference'] = data['Reference']\n",
    "df1['Delivery Note'] = data['Delivery Note']\n",
    "df1['Matching'] = data['partial_ratio'] = data.apply(lambda x: fuzz.partial_ratio(x['Reference'], x['Delivery Note']), axis=1)"
   ]
  },
  {
   "cell_type": "code",
   "execution_count": 64,
   "id": "dd068e10",
   "metadata": {},
   "outputs": [
    {
     "data": {
      "text/html": [
       "<div>\n",
       "<style scoped>\n",
       "    .dataframe tbody tr th:only-of-type {\n",
       "        vertical-align: middle;\n",
       "    }\n",
       "\n",
       "    .dataframe tbody tr th {\n",
       "        vertical-align: top;\n",
       "    }\n",
       "\n",
       "    .dataframe thead th {\n",
       "        text-align: right;\n",
       "    }\n",
       "</style>\n",
       "<table border=\"1\" class=\"dataframe\">\n",
       "  <thead>\n",
       "    <tr style=\"text-align: right;\">\n",
       "      <th></th>\n",
       "      <th>Unique</th>\n",
       "      <th>Reference</th>\n",
       "      <th>Delivery Note</th>\n",
       "      <th>Matching</th>\n",
       "    </tr>\n",
       "  </thead>\n",
       "  <tbody>\n",
       "    <tr>\n",
       "      <th>0</th>\n",
       "      <td>A0501000345109492780</td>\n",
       "      <td>INS2600996</td>\n",
       "      <td>IN2600996</td>\n",
       "      <td>89</td>\n",
       "    </tr>\n",
       "    <tr>\n",
       "      <th>1</th>\n",
       "      <td>A0501000345109494838</td>\n",
       "      <td>4300019621</td>\n",
       "      <td>blank</td>\n",
       "      <td>0</td>\n",
       "    </tr>\n",
       "    <tr>\n",
       "      <th>2</th>\n",
       "      <td>A0501000385109389753</td>\n",
       "      <td>AF/2021/08/02492</td>\n",
       "      <td>AFP/2021/08/03-2</td>\n",
       "      <td>81</td>\n",
       "    </tr>\n",
       "    <tr>\n",
       "      <th>3</th>\n",
       "      <td>A0501000385109389753</td>\n",
       "      <td>AF/2021/08/02492</td>\n",
       "      <td>AFP/2021/08/06-2</td>\n",
       "      <td>81</td>\n",
       "    </tr>\n",
       "    <tr>\n",
       "      <th>4</th>\n",
       "      <td>A0501000385109389753</td>\n",
       "      <td>AF/2021/08/02492</td>\n",
       "      <td>AFP/2021/07/30-1</td>\n",
       "      <td>69</td>\n",
       "    </tr>\n",
       "    <tr>\n",
       "      <th>...</th>\n",
       "      <td>...</td>\n",
       "      <td>...</td>\n",
       "      <td>...</td>\n",
       "      <td>...</td>\n",
       "    </tr>\n",
       "    <tr>\n",
       "      <th>24097</th>\n",
       "      <td>H1504045455109424498</td>\n",
       "      <td>LC2110240B</td>\n",
       "      <td>LC2110240</td>\n",
       "      <td>100</td>\n",
       "    </tr>\n",
       "    <tr>\n",
       "      <th>24098</th>\n",
       "      <td>H1504045735109430367</td>\n",
       "      <td>224</td>\n",
       "      <td>30859</td>\n",
       "      <td>0</td>\n",
       "    </tr>\n",
       "    <tr>\n",
       "      <th>24099</th>\n",
       "      <td>H1504048945109421904</td>\n",
       "      <td>2021A/C4372</td>\n",
       "      <td>2021A/C-4372</td>\n",
       "      <td>91</td>\n",
       "    </tr>\n",
       "    <tr>\n",
       "      <th>24100</th>\n",
       "      <td>H150H0505109415297</td>\n",
       "      <td>INV21/H050/0021</td>\n",
       "      <td>33587</td>\n",
       "      <td>20</td>\n",
       "    </tr>\n",
       "    <tr>\n",
       "      <th>24101</th>\n",
       "      <td>H150H0505109415297</td>\n",
       "      <td>INV21/H050/0021</td>\n",
       "      <td>34551</td>\n",
       "      <td>20</td>\n",
       "    </tr>\n",
       "  </tbody>\n",
       "</table>\n",
       "<p>24102 rows × 4 columns</p>\n",
       "</div>"
      ],
      "text/plain": [
       "                     Unique         Reference     Delivery Note  Matching\n",
       "0      A0501000345109492780        INS2600996         IN2600996        89\n",
       "1      A0501000345109494838        4300019621             blank         0\n",
       "2      A0501000385109389753  AF/2021/08/02492  AFP/2021/08/03-2        81\n",
       "3      A0501000385109389753  AF/2021/08/02492  AFP/2021/08/06-2        81\n",
       "4      A0501000385109389753  AF/2021/08/02492  AFP/2021/07/30-1        69\n",
       "...                     ...               ...               ...       ...\n",
       "24097  H1504045455109424498        LC2110240B         LC2110240       100\n",
       "24098  H1504045735109430367               224             30859         0\n",
       "24099  H1504048945109421904       2021A/C4372      2021A/C-4372        91\n",
       "24100    H150H0505109415297   INV21/H050/0021             33587        20\n",
       "24101    H150H0505109415297   INV21/H050/0021             34551        20\n",
       "\n",
       "[24102 rows x 4 columns]"
      ]
     },
     "execution_count": 64,
     "metadata": {},
     "output_type": "execute_result"
    }
   ],
   "source": [
    "df1"
   ]
  },
  {
   "cell_type": "code",
   "execution_count": 65,
   "id": "de55091a",
   "metadata": {},
   "outputs": [],
   "source": [
    "df1.to_csv('GRN_MisMatchNew01.csv')"
   ]
  },
  {
   "cell_type": "code",
   "execution_count": null,
   "id": "c73f81cf",
   "metadata": {},
   "outputs": [],
   "source": []
  }
 ],
 "metadata": {
  "kernelspec": {
   "display_name": "Python 3 (ipykernel)",
   "language": "python",
   "name": "python3"
  },
  "language_info": {
   "codemirror_mode": {
    "name": "ipython",
    "version": 3
   },
   "file_extension": ".py",
   "mimetype": "text/x-python",
   "name": "python",
   "nbconvert_exporter": "python",
   "pygments_lexer": "ipython3",
   "version": "3.9.7"
  }
 },
 "nbformat": 4,
 "nbformat_minor": 5
}
